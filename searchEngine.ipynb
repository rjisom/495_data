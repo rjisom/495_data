# CST 495 Data Science For Search, Spring 2016
# @uthors: Richard Isom, Joshua Kim
#
#  This program was designed to look into tf-idf and bm25 techniques for making a search engine
# to test and explore the functionality and user feedback on queries given by volunteer testers
# Medical text obtained from http://www.cl.uni-heidelberg.de/statnlpgroup/nfcorpus/
# Search engine template designed after https://github.com/mattwg/data-science-for-search

import csv
import math
import pandas as pd
import datetime as dt

from collections import Counter
from bokeh.charts import output_notebook, Scatter, show
from bokeh.io import push_notebook
from bokeh.plotting import ColumnDataSource, figure
from bokeh.models import HoverTool, ColorMapper
from bokeh.palettes import YlOrRd9

#open text file and parse the data
with open("nfcorpus_medical.txt") as f:
r = csv.reader(f, delimiter= quotechar='"')
docs = [ x[1] for i,x in enu'    ',merate(r) if i > 1 ]

print(YlOrRd9)

output_notebook()

# plot data for results
x_vals = [float(x[0]) for x in results] 
y_vals = [len(docs[x[1]].split()) for x in results]
d_vals = [docs[x[1]] for x in results]

hover = HoverTool(
tooltips=[
("desc", "@desc"),
])
source = ColumnDataSource(data=dict(x=x_vals,y=y_vals,desc=d_vals))
p = figure()
p.add_tools(hover)
p.circle(x_vals, y_vals, size=10, color=“red”, source=source)
show(p)

def update(qry, k1, b):
results = get_results5(qry, docs, k1, b)
x_vals = [float(x[0]) for x in results] 
y_vals = [len(docs[x[1]].split()) for x in results]
d_vals = [docs[x[1]] for x in results]
source.data['x'] = x_vals
source.data['y'] = y_vals
source.data['desc'] = d_vals
push_notebook()

interact(update, qry=‘cancer cell’, k1=(0.0,2.0,0.05), b=(0.0,1.0,0.05))

